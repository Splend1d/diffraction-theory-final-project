{
 "cells": [
  {
   "cell_type": "code",
   "execution_count": 14,
   "metadata": {},
   "outputs": [],
   "source": [
    "%matplotlib inline\n",
    "import numpy as np\n",
    "import matplotlib.pyplot as plt\n",
    "from numpy.linalg import norm, inv\n",
    "import warnings  \n",
    "warnings.filterwarnings('ignore')"
   ]
  },
  {
   "cell_type": "code",
   "execution_count": 3,
   "metadata": {},
   "outputs": [],
   "source": [
    "#lattice constant\n",
    "a = 5.431\n",
    "#rotation angle\n",
    "phi = -np.pi/50\n",
    "theta = -np.pi/30"
   ]
  },
  {
   "cell_type": "markdown",
   "metadata": {},
   "source": [
    "From Rodrigues' rotation formula, we know for a given axis $k$ and a given rotation angle $\\theta$, rotation matrix $J$ is \n",
    "$$J = 1 + sin\\theta K+(1-cos\\theta)K^2$$ \n",
    "where $$K = \\begin{bmatrix} 0 & -k_z & k_y \\\\ k_z & 0 & -k_x \\\\ -k_y & k_x & 0 \\end{bmatrix}$$"
   ]
  },
  {
   "cell_type": "code",
   "execution_count": 64,
   "metadata": {},
   "outputs": [],
   "source": [
    "def rotate(vector, angle, axis):\n",
    "    K = np.array([[0, -axis[2], axis[1]],[axis[2], 0, -axis[0]], [-axis[1], axis[0], 0]])\n",
    "    return vector + np.sin(angle)*K.dot(vector) + (1-np.cos(angle))*K.dot(K.dot(vector))"
   ]
  },
  {
   "cell_type": "markdown",
   "metadata": {},
   "source": [
    "The selection rules for Si lattice are (1)h,k,l are all odd or all even (2)h+k+l != 4n+2"
   ]
  },
  {
   "cell_type": "code",
   "execution_count": 145,
   "metadata": {},
   "outputs": [],
   "source": [
    "# generate reciprocal lattice\n",
    "lattice = []\n",
    "for h in range(-20,21):\n",
    "    for k in range(-20,21):\n",
    "        for l in range(-20, 21):\n",
    "            if (h%2==0 and k%2==0 and l%2==0) or (h%2==1 and k%2==1 and l%2==1):\n",
    "                if (h+k+l)%4!=2:lattice.append([h,k,l])\n",
    "lattice = np.array(lattice)*(1/a)\n",
    "\n",
    "            "
   ]
  },
  {
   "cell_type": "markdown",
   "metadata": {},
   "source": [
    "The incident beam $K_0=J(\\theta, [\\bar1 \\bar1 0])\\cdot J(\\phi, [\\bar1 1 2])\\cdot[\\bar1 1 \\bar1]$ "
   ]
  },
  {
   "cell_type": "code",
   "execution_count": 151,
   "metadata": {},
   "outputs": [],
   "source": [
    "k_0 = np.array([-1,1,-1])\n",
    "k_0 = rotate(rotate(k_0, phi, np.array([-1,1,2])), theta, np.array([-1,-1,0]))"
   ]
  },
  {
   "cell_type": "markdown",
   "metadata": {},
   "source": [
    "From geometric configuration, we can derive the relationship between $\\lambda$ and $\\bar K$ and $\\alpha$, where $|\\bar K_0| = |\\bar K_1| = \\frac{1}{\\lambda}$\n",
    "\n",
    "$$|\\bar K_1|^2 = |\\bar K|^2 sin^2 \\alpha + (|\\bar K|cos \\alpha - |\\bar K_0|)^2$$\n",
    "Solve for $\\lambda$, we get\n",
    "$$\\lambda = \\frac{2cos\\alpha}{|\\bar K|}$$"
   ]
  },
  {
   "cell_type": "code",
   "execution_count": 147,
   "metadata": {},
   "outputs": [],
   "source": [
    "cos = lattice.dot(-k_0)/norm(k_0)/norm(lattice, axis=1)"
   ]
  },
  {
   "cell_type": "code",
   "execution_count": 148,
   "metadata": {},
   "outputs": [],
   "source": [
    "wavelength = 2/norm(lattice, axis=1)*cos"
   ]
  },
  {
   "cell_type": "markdown",
   "metadata": {},
   "source": [
    "Select $K_1$ vectors that meet the requisite $ 0.6 <\\lambda< 1.2$. Also note that Back-reflection mode was used. We demand $2\\alpha < \\frac{\\pi}{2}$."
   ]
  },
  {
   "cell_type": "code",
   "execution_count": 149,
   "metadata": {},
   "outputs": [],
   "source": [
    "allowed_lattice = lattice[(wavelength>0.6) & (wavelength<1.2) & (2*np.arccos(cos)<np.pi/2)]"
   ]
  },
  {
   "cell_type": "markdown",
   "metadata": {},
   "source": [
    "We define a basis $xyz$, where\n",
    "$$x=J(\\theta, [\\bar1 \\bar1 0])\\cdot J(\\phi, [\\bar1 1 2])\\cdot[1 \\bar1 1]$$ \n",
    "$$y=J(\\theta, [\\bar1 \\bar1 0])\\cdot J(\\phi, [\\bar1 1 2])\\cdot[\\bar1 1 2]$$ \n",
    "$$z=J(\\theta, [\\bar1 \\bar1 0])\\cdot J(\\phi, [\\bar1 1 2])\\cdot[\\bar1 \\bar1 0]$$ \n",
    "Note that $[\\bar1 \\bar1 0] = [1 \\bar1 1]\\times[\\bar1 1 2]$"
   ]
  },
  {
   "cell_type": "code",
   "execution_count": 141,
   "metadata": {},
   "outputs": [],
   "source": [
    "x = np.array([1,-1,1])\n",
    "y = np.array([-1,1,2])\n",
    "z = np.array([-1,-1,0])\n",
    "x = rotate(rotate(x, phi, np.array([-1,1,2])), theta, np.array([-1,-1,0]))\n",
    "y = rotate(rotate(y, phi, np.array([-1,1,2])), theta, np.array([-1,-1,0]))\n",
    "z = rotate(rotate(z, phi, np.array([-1,1,2])), theta, np.array([-1,-1,0]))"
   ]
  },
  {
   "cell_type": "markdown",
   "metadata": {},
   "source": [
    "To project vector $[1 \\bar1 1]$ on to the center of the screen, we like to perform a coordination transformation $M$ such that\n",
    "$$M\\cdot[x|y|z] = \\begin{bmatrix}1&0&0\\\\0&1&0\\\\0&0&1\\end{bmatrix}$$\n",
    "We can immediately identify that $M = [x|y|z]^{-1}$."
   ]
  },
  {
   "cell_type": "code",
   "execution_count": 150,
   "metadata": {},
   "outputs": [],
   "source": [
    "M = inv(np.vstack((x,y,z)).T)"
   ]
  },
  {
   "cell_type": "markdown",
   "metadata": {},
   "source": [
    "Transform all $K_1$ vectors by $M$ and rescale them so their first components equal 9. Now their second components and third components are the vertical coordinates and the horizontal coordinates on the screen, respectively."
   ]
  },
  {
   "cell_type": "code",
   "execution_count": 143,
   "metadata": {},
   "outputs": [],
   "source": [
    "real = M.dot(allowed_lattice.T)\n",
    "real = real/real[0,:]*9"
   ]
  },
  {
   "cell_type": "code",
   "execution_count": 144,
   "metadata": {},
   "outputs": [
    {
     "data": {
      "text/plain": [
       "(-5, 5)"
      ]
     },
     "execution_count": 144,
     "metadata": {},
     "output_type": "execute_result"
    },
    {
     "data": {
      "image/png": "[encoded data removed]",
      "text/plain": [
       "<matplotlib.figure.Figure at 0x2cb1f6c14e0>"
      ]
     },
     "metadata": {},
     "output_type": "display_data"
    }
   ],
   "source": [
    "plt.figure(figsize=(6,6), dpi=100)\n",
    "plt.scatter(real[2,:], real[1,:], marker='.')\n",
    "plt.xlim(-5,5)\n",
    "plt.ylim(-5,5)"
   ]
  },
  {
   "cell_type": "code",
   "execution_count": null,
   "metadata": {},
   "outputs": [],
   "source": []
  }
 ],
 "metadata": {
  "kernelspec": {
   "display_name": "Python 3",
   "language": "python",
   "name": "python3"
  },
  "language_info": {
   "codemirror_mode": {
    "name": "ipython",
    "version": 3
   },
   "file_extension": ".py",
   "mimetype": "text/x-python",
   "name": "python",
   "nbconvert_exporter": "python",
   "pygments_lexer": "ipython3",
   "version": "3.6.4"
  }
 },
 "nbformat": 4,
 "nbformat_minor": 2
}
